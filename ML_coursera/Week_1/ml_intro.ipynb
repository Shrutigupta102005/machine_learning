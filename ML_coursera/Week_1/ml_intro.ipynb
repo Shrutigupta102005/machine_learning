{
 "cells": [
  {
   "cell_type": "code",
   "execution_count": null,
   "metadata": {
    "vscode": {
     "languageId": "plaintext"
    }
   },
   "outputs": [],
   "source": [
    "# what is machine learning?\n",
    "'''\n",
    "Machine learning is a subset of artificial\n",
    "intelligence (AI) that focuses on building\n",
    "systems that can learn from and make\n",
    "decisions based on data. Unlike traditional\n",
    "programming, where explicit instructions are\n",
    "provided to achieve a specific task, machine\n",
    "learning involves creating algorithms that allow\n",
    "computers to identify patterns, make\n",
    "predictions, and improve their performance\n",
    "over time based on experience.'''\n",
    "\n",
    "# applications of machine learning \n",
    "\n",
    "E-commerce,gen-ai , medical,GPs,speech recognization,computer -vision\n"
   ]
  },
  {
   "cell_type": "code",
   "execution_count": null,
   "metadata": {
    "vscode": {
     "languageId": "plaintext"
    }
   },
   "outputs": [],
   "source": [
    "                        Types of ml algorithms\n",
    "--> supervised learning\n",
    "--> unsupervised learning\n",
    "-->Recommender system\n",
    "-->reinforcement learning"
   ]
  },
  {
   "cell_type": "code",
   "execution_count": null,
   "metadata": {},
   "outputs": [],
   "source": [
    "#supervised learning -- learns from begin given right answer .\n",
    "\"\"\"input (x)-->output(Y)[labled data]\n",
    "-->regressions--predict infinitely possible number\n",
    "-->classification -- small number of possible outcomes \"\"\"\n",
    "from IPython.display import Image\n",
    "\n",
    "# Replace the path with the actual path to your image file\n",
    "image_path = r\"C:\\Users\\shrut\\OneDrive\\Pictures\\Screenshots\\Screenshot 2024-08-21 115404.png\"\n",
    "\n",
    "# Display the image\n",
    "Image(filename=image_path, width=300, height=300)\n",
    "\n"
   ]
  },
  {
   "cell_type": "code",
   "execution_count": null,
   "metadata": {
    "vscode": {
     "languageId": "latex"
    }
   },
   "outputs": [],
   "source": [
    "Advantages and Disadvantages of Supervised Learning:\n",
    "Advantages:\n",
    "• Since supervised learning work with the labelled dataset so we can have an exact idea about the\n",
    "classes of objects.\n",
    "• These algorithms are helpful in predicting the output on the basis of prior experience.\n",
    "Disadvantages:\n",
    "• These algorithms are not able to solve complex tasks.\n",
    "• It may predict the wrong output if the test data is different from the training data.\n",
    "• It requires lots of computational time to train the algorithm"
   ]
  }
 ],
 "metadata": {
  "language_info": {
   "name": "python"
  }
 },
 "nbformat": 4,
 "nbformat_minor": 2
}
