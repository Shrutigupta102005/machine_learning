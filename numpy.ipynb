{
  "nbformat": 4,
  "nbformat_minor": 0,
  "metadata": {
    "colab": {
      "provenance": [],
      "authorship_tag": "ABX9TyOKZaKUkNeMeKtPEzT/fakp",
      "include_colab_link": true
    },
    "kernelspec": {
      "name": "python3",
      "display_name": "Python 3"
    },
    "language_info": {
      "name": "python"
    }
  },
  "cells": [
    {
      "cell_type": "markdown",
      "metadata": {
        "id": "view-in-github",
        "colab_type": "text"
      },
      "source": [
        "<a href=\"https://colab.research.google.com/github/Shrutigupta102005/machine_learning/blob/main/numpy.ipynb\" target=\"_parent\"><img src=\"https://colab.research.google.com/assets/colab-badge.svg\" alt=\"Open In Colab\"/></a>"
      ]
    },
    {
      "cell_type": "code",
      "execution_count": 46,
      "metadata": {
        "id": "ScQ_bquRsoJd"
      },
      "outputs": [],
      "source": [
        "# numpy\n",
        "#Performance measurement\n",
        "#%timeit is an python function, which can be used to check the time taken by a particular piece of code (A single execution statement, or a single method)"
      ]
    },
    {
      "cell_type": "code",
      "source": [
        "list = [1,2,3,4,5,6,7]\n",
        "print(list)\n",
        "print(list[3])\n",
        "#list is slow ,expensive in terms of memory --- therefore we use numpy"
      ],
      "metadata": {
        "colab": {
          "base_uri": "https://localhost:8080/"
        },
        "id": "HfMLRA8ysuzy",
        "outputId": "7d301425-cfc8-471a-eb9a-8f0476cfdea2"
      },
      "execution_count": 47,
      "outputs": [
        {
          "output_type": "stream",
          "name": "stdout",
          "text": [
            "[1, 2, 3, 4, 5, 6, 7]\n",
            "4\n"
          ]
        }
      ]
    },
    {
      "cell_type": "code",
      "source": [
        "import numpy as np\n",
        "# to install numpy -- pip install np\n",
        "# data type of numpy array is ndarray(n-dimensional array)\n",
        "list2 = np.array([1,2,3,4,5,6,7]) # have dtype inside\n",
        "print(list2)\n",
        "print(list2[3])\n",
        "#shape -- number of element\n",
        "list2.shape"
      ],
      "metadata": {
        "colab": {
          "base_uri": "https://localhost:8080/"
        },
        "id": "v6m6TXZQs3UP",
        "outputId": "0b2e314b-ccc4-4412-96f2-76f3441ea540"
      },
      "execution_count": 48,
      "outputs": [
        {
          "output_type": "stream",
          "name": "stdout",
          "text": [
            "[1 2 3 4 5 6 7]\n",
            "4\n"
          ]
        },
        {
          "output_type": "execute_result",
          "data": {
            "text/plain": [
              "(7,)"
            ]
          },
          "metadata": {},
          "execution_count": 48
        }
      ]
    },
    {
      "cell_type": "code",
      "source": [
        "#range\n",
        "a=np.arange(5,12,2)\n",
        "print(a)\n",
        "#Zeroes\n",
        "b=np.zeros(3)\n",
        "print(b)\n",
        "# Multi dimensionl Zeroes\n",
        "b=np.zeros((2,2))\n",
        "print(b)\n",
        "#ones\n",
        "c=np.ones(5)\n",
        "print(c)\n",
        "#full\n",
        "d=np.full(2,5)\n",
        "print(d)\n"
      ],
      "metadata": {
        "colab": {
          "base_uri": "https://localhost:8080/"
        },
        "id": "IB7jTtXCt-Hn",
        "outputId": "aa95cc61-7715-434a-eba4-2c4178709f51"
      },
      "execution_count": 49,
      "outputs": [
        {
          "output_type": "stream",
          "name": "stdout",
          "text": [
            "[ 5  7  9 11]\n",
            "[0. 0. 0.]\n",
            "[[0. 0.]\n",
            " [0. 0.]]\n",
            "[1. 1. 1. 1. 1.]\n",
            "[5 5]\n"
          ]
        }
      ]
    },
    {
      "cell_type": "code",
      "source": [
        "# convert python list to numpy\n",
        "sh = [2,3,4,5,6]\n",
        "shruti = np.array(sh)\n",
        "print(shruti)\n",
        "#type\n",
        "print(type(shruti))"
      ],
      "metadata": {
        "colab": {
          "base_uri": "https://localhost:8080/"
        },
        "id": "bTRQicN2uBj8",
        "outputId": "7c1f3756-8f29-4dc1-e1f4-41b56b85a375"
      },
      "execution_count": 50,
      "outputs": [
        {
          "output_type": "stream",
          "name": "stdout",
          "text": [
            "[2 3 4 5 6]\n",
            "<class 'numpy.ndarray'>\n"
          ]
        }
      ]
    },
    {
      "cell_type": "code",
      "source": [
        "# slicing numpy\n",
        "print(shruti[1:4])\n",
        "md = [ [1,2,3],[4,5,6]]\n",
        "#multidimensional array\n",
        "var =md[0:2][0:2]\n",
        "print(var)"
      ],
      "metadata": {
        "colab": {
          "base_uri": "https://localhost:8080/"
        },
        "id": "k9fiSogtwr6p",
        "outputId": "7d3b445d-d71a-47cc-a8fb-39589afba4d3"
      },
      "execution_count": 51,
      "outputs": [
        {
          "output_type": "stream",
          "name": "stdout",
          "text": [
            "[3 4 5]\n",
            "[[1, 2, 3], [4, 5, 6]]\n"
          ]
        }
      ]
    },
    {
      "cell_type": "code",
      "source": [
        "\n",
        "\n",
        "print(np.sqrt( shruti))\n",
        "print(np.absolute(shruti))\n",
        "print(np.exp(shruti))\n",
        "print(np.max(shruti))\n",
        "print(np.min(shruti))\n",
        "print(np.sort(shruti))\n",
        "print(np.sign(shruti))\n",
        "# refer to numpy docs universal function"
      ],
      "metadata": {
        "colab": {
          "base_uri": "https://localhost:8080/"
        },
        "id": "_kJKvobByXD5",
        "outputId": "c7b571f9-c295-4dd9-e76d-f4b651e5d736"
      },
      "execution_count": 52,
      "outputs": [
        {
          "output_type": "stream",
          "name": "stdout",
          "text": [
            "[1.41421356 1.73205081 2.         2.23606798 2.44948974]\n",
            "[2 3 4 5 6]\n",
            "[  7.3890561   20.08553692  54.59815003 148.4131591  403.42879349]\n",
            "6\n",
            "2\n",
            "[2 3 4 5 6]\n",
            "[1 1 1 1 1]\n"
          ]
        }
      ]
    },
    {
      "cell_type": "code",
      "source": [
        "# copy vs view\n",
        "shubh =np.copy(shruti)\n",
        "dhruv = shruti.view() # changes to orignal will be seen in copy\n",
        "print(shubh)\n",
        "print(dhruv)\n",
        "shruti[0] = 12\n",
        "shubh[0]=99\n",
        "print(shubh)\n",
        "print(dhruv)\n",
        "print(shruti)"
      ],
      "metadata": {
        "colab": {
          "base_uri": "https://localhost:8080/"
        },
        "id": "iaxEz1LeAK0k",
        "outputId": "11b1e164-0f55-4289-c94f-b5848df03897"
      },
      "execution_count": 54,
      "outputs": [
        {
          "output_type": "stream",
          "name": "stdout",
          "text": [
            "[2 3 4 5 6]\n",
            "[2 3 4 5 6]\n",
            "[99  3  4  5  6]\n",
            "[12  3  4  5  6]\n",
            "[12  3  4  5  6]\n"
          ]
        }
      ]
    },
    {
      "cell_type": "code",
      "source": [
        " #shape and reshape array\n",
        " #creating a 1d array\n",
        " ajay = np.array([1,2,3,4,5,6,7,8,9,10,11,12])\n",
        " print(ajay)\n",
        " print(ajay.shape)\n",
        " #creating a 2d array\n",
        " ruby = np.array([[1,2,3,4],[5,6,7,8]])\n",
        " print(ruby)\n",
        " print(ruby.shape)\n",
        " \"\"\" to iterate over a array you can use multiple loop\n",
        " or simply you can use nditer method  \"\"\"\n",
        " for x in np.nditer(ruby):\n",
        "  print(x)\n",
        " # reshape\n",
        " om = ajay.reshape(4,3)\n",
        " print(om)\n",
        " print(om.shape)\n",
        " #flatten array to 1d\n",
        " babu = om.reshape(-1)\n",
        " print(babu)\n",
        " print(babu.shape)\n"
      ],
      "metadata": {
        "colab": {
          "base_uri": "https://localhost:8080/"
        },
        "id": "8Sn9Xoi9Bn7g",
        "outputId": "93065370-8f57-4c09-a3f1-b8d4ad3e10e5"
      },
      "execution_count": 59,
      "outputs": [
        {
          "output_type": "stream",
          "name": "stdout",
          "text": [
            "[ 1  2  3  4  5  6  7  8  9 10 11 12]\n",
            "(12,)\n",
            "[[1 2 3 4]\n",
            " [5 6 7 8]]\n",
            "(2, 4)\n",
            "1\n",
            "2\n",
            "3\n",
            "4\n",
            "5\n",
            "6\n",
            "7\n",
            "8\n",
            "[[ 1  2  3]\n",
            " [ 4  5  6]\n",
            " [ 7  8  9]\n",
            " [10 11 12]]\n",
            "(4, 3)\n",
            "[ 1  2  3  4  5  6  7  8  9 10 11 12]\n",
            "(12,)\n"
          ]
        }
      ]
    },
    {
      "cell_type": "code",
      "source": [
        "# searching in arrays\n",
        "ajay = np.array([1,2,3,4,5,4,4])\n",
        "x = np.where(ajay == 4)   # return  tuple of index\n",
        "print(x)\n"
      ],
      "metadata": {
        "colab": {
          "base_uri": "https://localhost:8080/"
        },
        "id": "h7GTOlQ8ElVx",
        "outputId": "1618769f-bc1a-4033-d3e4-e243fb0930b5"
      },
      "execution_count": 61,
      "outputs": [
        {
          "output_type": "stream",
          "name": "stdout",
          "text": [
            "(array([3, 5, 6]),)\n"
          ]
        }
      ]
    },
    {
      "cell_type": "code",
      "source": [],
      "metadata": {
        "id": "oqD7E8neIkQf"
      },
      "execution_count": 61,
      "outputs": []
    }
  ]
}